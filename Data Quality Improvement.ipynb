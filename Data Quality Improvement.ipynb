{
 "cells": [
  {
   "cell_type": "markdown",
   "metadata": {},
   "source": [
    "## 1. Filling Missing Values"
   ]
  },
  {
   "cell_type": "code",
   "execution_count": null,
   "metadata": {
    "collapsed": true
   },
   "outputs": [],
   "source": [
    "#set default value\n",
    "data_frame = pd.read_csv(my_data)\n",
    "#back fill\n",
    "data_frame.replacena(method='bfill')\n",
    "#front fill\n",
    "data_frame.replacena(method='bfill')\n",
    "#interpolate by placing mean values using sci-kit learn\n",
    "from sklearn.preprocessing import Imputer\n",
    "imr = Imputer(missing_values='NaN', strategy='mean', axis=0)\n",
    "imr = imr.fit(df)\n",
    "imputed_data = imr.transform(data_frame.values)"
   ]
  },
  {
   "cell_type": "markdown",
   "metadata": {},
   "source": [
    "## 2.Handling Categorical Values"
   ]
  },
  {
   "cell_type": "code",
   "execution_count": null,
   "metadata": {
    "collapsed": true
   },
   "outputs": [],
   "source": [
    "#sci-kit learn encoder\n",
    "\n",
    "from sklearn.preprocessing import LabelEncoder\n",
    "target_feature = 'Most Active Current News Type'\n",
    "#use encoder and transform\n",
    "encoder = LabelEncoder()\n",
    "encoded_values = encoder.fit_transform(data_frame[target_feature].values)\n",
    "data_frame[target_feature] = pd.Series(encoded_values, index=data_frame.index)\n",
    "#to inverse, use inverse method\n",
    "decoded = encoder.inverse_transform(data_frame[target_feature].values)\n",
    "data_frame[target_feature] = pd.Series(decoded, index=data_frame.index)"
   ]
  },
  {
   "cell_type": "code",
   "execution_count": null,
   "metadata": {
    "collapsed": true
   },
   "outputs": [],
   "source": [
    "# one-hot encoding"
   ]
  },
  {
   "cell_type": "markdown",
   "metadata": {},
   "source": [
    "## 3.Scaling features"
   ]
  },
  {
   "cell_type": "code",
   "execution_count": null,
   "metadata": {
    "collapsed": true
   },
   "outputs": [],
   "source": [
    "#Normalization\n",
    "Normalised Value = (Value - Feature Min)/(Feature Max - Feature Min)\n",
    "\n",
    "\n",
    "#Standardisation\n",
    "Standarderised Value = (Value - Feature Mean)/Feature Standard Deviation\n"
   ]
  },
  {
   "cell_type": "markdown",
   "metadata": {},
   "source": [
    "## 4.Remove Existing Features"
   ]
  },
  {
   "cell_type": "code",
   "execution_count": null,
   "metadata": {
    "collapsed": true
   },
   "outputs": [],
   "source": [
    "#RandomForest tells importance of each feature\n",
    "my_importance_model = RandomForestClassifier(n_estimators=10000, random_state=0, n_jobs=-1)\n",
    "my_importance_model.fit(independent_variables, dependent_variables)\n",
    "print(my_importance_model.feature_importances_)"
   ]
  },
  {
   "cell_type": "code",
   "execution_count": null,
   "metadata": {
    "collapsed": true
   },
   "outputs": [],
   "source": []
  }
 ],
 "metadata": {
  "kernelspec": {
   "display_name": "Python 3",
   "language": "python",
   "name": "python3"
  },
  "language_info": {
   "codemirror_mode": {
    "name": "ipython",
    "version": 3
   },
   "file_extension": ".py",
   "mimetype": "text/x-python",
   "name": "python",
   "nbconvert_exporter": "python",
   "pygments_lexer": "ipython3",
   "version": "3.6.2"
  }
 },
 "nbformat": 4,
 "nbformat_minor": 2
}
